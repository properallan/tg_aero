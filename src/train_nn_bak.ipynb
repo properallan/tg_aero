{
 "cells": [
  {
   "cell_type": "code",
   "execution_count": 1,
   "id": "bbeea40f",
   "metadata": {},
   "outputs": [],
   "source": [
    "from data_handler import dataHandler\n",
    "\n",
    "lfd = dataHandler('../data/Q1D.hdf5', ['p.txt', 'T.txt', 'M.txt'])\n",
    "\n",
    "hfd = dataHandler('../data/SU2_fluid.hdf5', ['Pressure', 'Temperature', 'Mach', 'Heat_Flux'])\n"
   ]
  },
  {
   "cell_type": "code",
   "execution_count": 2,
   "id": "9c0f6e26",
   "metadata": {},
   "outputs": [
    {
     "data": {
      "image/png": "[encoded data removed]",
      "text/plain": [
       "<Figure size 640x480 with 1 Axes>"
      ]
     },
     "metadata": {},
     "output_type": "display_data"
    },
    {
     "ename": "TypeError",
     "evalue": "only length-1 arrays can be converted to Python scalars",
     "output_type": "error",
     "traceback": [
      "\u001b[31m---------------------------------------------------------------------------\u001b[39m",
      "\u001b[31mTypeError\u001b[39m                                 Traceback (most recent call last)",
      "\u001b[36mCell\u001b[39m\u001b[36m \u001b[39m\u001b[32mIn[2]\u001b[39m\u001b[32m, line 17\u001b[39m\n\u001b[32m     14\u001b[39m su2_test = hfd.data[:,nvalid:ntest]\n\u001b[32m     16\u001b[39m rank = \u001b[32m10\u001b[39m\n\u001b[32m---> \u001b[39m\u001b[32m17\u001b[39m (q1d_rom_train, q1d_rom_validation, q1d_rom_test), (su2_rom_train, su2_rom_validation, su2_rom_test), rank = \u001b[43morderReduction\u001b[49m\u001b[43m(\u001b[49m\u001b[43mlow_fidelity_data\u001b[49m\u001b[43m=\u001b[49m\u001b[43mlfd\u001b[49m\u001b[43m.\u001b[49m\u001b[43mdata\u001b[49m\u001b[43m,\u001b[49m\n\u001b[32m     18\u001b[39m \u001b[43m                \u001b[49m\u001b[43mhigh_fidelity_data\u001b[49m\u001b[43m=\u001b[49m\u001b[43mhfd\u001b[49m\u001b[43m.\u001b[49m\u001b[43mdata\u001b[49m\u001b[43m,\u001b[49m\n\u001b[32m     19\u001b[39m \u001b[43m                \u001b[49m\u001b[43mrank\u001b[49m\u001b[43m=\u001b[49m\u001b[43mrank\u001b[49m\u001b[43m,\u001b[49m\n\u001b[32m     20\u001b[39m \u001b[43m                \u001b[49m\u001b[43mdata_split\u001b[49m\u001b[43m=\u001b[49m\u001b[43m[\u001b[49m\u001b[32;43m0.8\u001b[39;49m\u001b[43m,\u001b[49m\u001b[32;43m0.1\u001b[39;49m\u001b[43m,\u001b[49m\u001b[32;43m0.1\u001b[39;49m\u001b[43m]\u001b[49m\u001b[43m)\u001b[49m\n",
      "\u001b[36mFile \u001b[39m\u001b[32m~/Documents/Sync/tg/src/train_nn.py:227\u001b[39m, in \u001b[36morderReduction\u001b[39m\u001b[34m(low_fidelity_data, high_fidelity_data, rank, data_split)\u001b[39m\n\u001b[32m    223\u001b[39m         plt.legend()\n\u001b[32m    224\u001b[39m         plt.show()\n\u001b[32m--> \u001b[39m\u001b[32m227\u001b[39m hf_data = \u001b[43msliceDataAlongAxis\u001b[49m\u001b[43m(\u001b[49m\n\u001b[32m    228\u001b[39m \u001b[43m    \u001b[49m\u001b[43mhigh_fidelity_data\u001b[49m\u001b[43m,\u001b[49m\u001b[43m \u001b[49m\u001b[43mdata_split\u001b[49m\u001b[43m,\u001b[49m\u001b[43m \u001b[49m\u001b[32;43m0\u001b[39;49m\u001b[43m)\u001b[49m \n\u001b[32m    230\u001b[39m hf_roms = []\n\u001b[32m    231\u001b[39m \u001b[38;5;28;01mfor\u001b[39;00m i, data_split \u001b[38;5;129;01min\u001b[39;00m \u001b[38;5;28menumerate\u001b[39m(hf_data):\n",
      "\u001b[36mFile \u001b[39m\u001b[32m~/Documents/Sync/tg/src/data_handler.py:10\u001b[39m, in \u001b[36msliceDataAlongAxis\u001b[39m\u001b[34m(data, fractions, axis)\u001b[39m\n\u001b[32m      8\u001b[39m total_size = \u001b[32m0\u001b[39m\n\u001b[32m      9\u001b[39m \u001b[38;5;28;01mfor\u001b[39;00m i, fraction \u001b[38;5;129;01min\u001b[39;00m \u001b[38;5;28menumerate\u001b[39m(fractions):\n\u001b[32m---> \u001b[39m\u001b[32m10\u001b[39m     total_size += \u001b[38;5;28;43mint\u001b[39;49m\u001b[43m(\u001b[49m\u001b[43mdata_size\u001b[49m\u001b[43m*\u001b[49m\u001b[43mfraction\u001b[49m\u001b[43m)\u001b[49m\n\u001b[32m     11\u001b[39m remain = data_size-total_size\n\u001b[32m     13\u001b[39m slices = ()\n",
      "\u001b[31mTypeError\u001b[39m: only length-1 arrays can be converted to Python scalars"
     ]
    }
   ],
   "source": [
    "from train_nn import orderReduction\n",
    "\n",
    "ntrain=145\n",
    "nvalid=ntrain+18\n",
    "ntest=nvalid+18\n",
    "\n",
    "q1d_train = lfd.data[:,:ntrain]\n",
    "su2_train = hfd.data[:,:ntrain]\n",
    "\n",
    "q1d_validation = lfd.data[:,ntrain:nvalid]\n",
    "su2_validation = hfd.data[:,ntrain:nvalid]\n",
    "\n",
    "q1d_test = lfd.data[:,nvalid:ntest]\n",
    "su2_test = hfd.data[:,nvalid:ntest]\n",
    "\n",
    "rank = 10\n",
    "(q1d_rom_train, q1d_rom_validation, q1d_rom_test), (su2_rom_train, su2_rom_validation, su2_rom_test), rank = orderReduction(low_fidelity_data=lfd.data,\n",
    "                high_fidelity_data=hfd.data,\n",
    "                rank=rank,\n",
    "                data_split=[0.8,0.1,0.1])"
   ]
  },
  {
   "cell_type": "code",
   "execution_count": null,
   "id": "47c7a011",
   "metadata": {},
   "outputs": [],
   "source": [
    "from data_handler import sliceDataAlongAxis\n",
    "\n",
    "# q1d_train_L, q1d_validation_L, q1d_test_L = sliceDataAlongAxis(\n",
    "#     q1d_rom.L, [0.8, 0.1, 0.1], 0)\n",
    "# su2_train_L, su2_validation_L, su2_test_L = sliceDataAlongAxis(\n",
    "#     su2_rom.L, [0.8, 0.1, 0.1], 0)\n",
    "\n",
    "q1d_train_L = q1d_rom.compress(q1d_train)\n",
    "q1d_test_L = q1d_rom.compress(q1d_test)\n",
    "q1d_validation_L = q1d_rom.compress(q1d_validation)\n",
    "\n",
    "su2_train_L = su2_rom.compress(su2_train)\n",
    "su2_test_L = su2_rom.compress(su2_test) \n",
    "su2_validation_L = su2_rom.compress(su2_validation)\n"
   ]
  },
  {
   "cell_type": "code",
   "execution_count": null,
   "id": "22e6c570",
   "metadata": {},
   "outputs": [
    {
     "data": {
      "text/plain": [
       "array([[10963294.15634127, -2235178.34368271,  1096739.19380668,\n",
       "         2345083.85905732, -1019789.51938223,  -733393.97777916,\n",
       "         -470803.2711345 ,   992495.25078192,    81949.19551961,\n",
       "         4034635.69761539],\n",
       "       [10958255.11244998, -2242248.60599246,  1096785.74901904,\n",
       "         2345068.8556262 , -1019798.61146813,  -733393.97844215,\n",
       "         -470803.47114183,   992495.00252931,    81949.19516593,\n",
       "         4034635.69705609],\n",
       "       [10936502.31648636, -2272628.6169636 ,  1097057.84221738,\n",
       "         2345095.84402907, -1019755.03487773,  -733395.28008666,\n",
       "         -470801.01941509,   992494.71494567,    81949.20213573,\n",
       "         4034635.69964729],\n",
       "       [10998292.53343106, -2185702.15357052,  1097038.93449214,\n",
       "         2345126.59395434, -1019723.42489431,  -733394.33844805,\n",
       "         -470802.85527797,   992494.58846304,    81949.19743181,\n",
       "         4034635.6955079 ],\n",
       "       [10998986.57902385, -2184713.97727365,  1097063.31569126,\n",
       "         2345121.71440192, -1019725.23099341,  -733394.34611448,\n",
       "         -470802.85561049,   992494.57653455,    81949.19701573,\n",
       "         4034635.69671494],\n",
       "       [10947590.24549113, -2257171.55236902,  1096909.85048716,\n",
       "         2345060.27148216, -1019796.32189813,  -733394.31882037,\n",
       "         -470803.14957138,   992494.51709043,    81949.19856839,\n",
       "         4034635.69895702],\n",
       "       [10985452.92057462, -2203931.75768444,  1096750.82824999,\n",
       "         2345155.63319511, -1019726.15885458,  -733394.23394265,\n",
       "         -470802.65060839,   992495.17557043,    81949.20115221,\n",
       "         4034635.69730509],\n",
       "       [10995769.95177891, -2189291.37913668,  1096958.8722443 ,\n",
       "         2345140.86196391, -1019718.95078555,  -733394.31744702,\n",
       "         -470802.83343899,   992494.66232444,    81949.19838549,\n",
       "         4034635.69628303],\n",
       "       [10966251.7238557 , -2231022.65811083,  1096717.75442935,\n",
       "         2345094.51857193, -1019782.13886427,  -733394.00163708,\n",
       "         -470803.12293926,   992495.36528893,    81949.19624667,\n",
       "         4034635.6979341 ],\n",
       "       [10947921.44095179, -2256708.92611141,  1096905.71063227,\n",
       "         2345059.92018734, -1019796.93703637,  -733394.29780176,\n",
       "         -470803.18418771,   992494.52616574,    81949.19850476,\n",
       "         4034635.69806406],\n",
       "       [10976020.88572244, -2217263.9417167 ,  1096690.18393346,\n",
       "         2345131.79350234, -1019752.35408084,  -733394.12564372,\n",
       "         -470802.71726185,   992495.47857007,    81949.19973265,\n",
       "         4034635.69766005],\n",
       "       [10988443.84272561, -2199693.78243562,  1096793.61025506,\n",
       "         2345157.18002453, -1019720.78942478,  -733394.25914977,\n",
       "         -470802.69360777,   992495.02262023,    81949.20094007,\n",
       "         4034635.69576264],\n",
       "       [10962588.05155008, -2236169.82116099,  1096745.01917566,\n",
       "         2345081.48165795, -1019791.08485266,  -733393.97327568,\n",
       "         -470803.30459127,   992495.21959863,    81949.19552305,\n",
       "         4034635.69657086],\n",
       "       [10978260.80622211, -2214102.17801281,  1096695.58052369,\n",
       "         2345139.31488099, -1019745.37270811,  -733394.15384629,\n",
       "         -470802.66884313,   992495.44036938,    81949.20047693,\n",
       "         4034635.69681294],\n",
       "       [10981935.30657411, -2208909.58793574,  1096716.04540817,\n",
       "         2345149.47689362, -1019734.71754037,  -733394.19754607,\n",
       "         -470802.63455456,   992495.32884873,    81949.20111793,\n",
       "         4034635.69697464],\n",
       "       [10997770.545835  , -2186445.20714743,  1097021.2745977 ,\n",
       "         2345129.97502041, -1019722.23522786,  -733394.33595351,\n",
       "         -470802.85372803,   992494.59940161,    81949.19734343,\n",
       "         4034635.69794535],\n",
       "       [10951907.08890018, -2251137.78314813,  1096856.90484444,\n",
       "         2345059.02949605, -1019801.42063429,  -733394.11009834,\n",
       "         -470803.45948721,   992494.67515975,    81949.19635015,\n",
       "         4034635.69936183],\n",
       "       [10943558.51888245, -2262798.799718  ,  1096961.11308015,\n",
       "         2345068.16246847, -1019785.76234654,  -733394.61823522,\n",
       "         -470802.56839893,   992494.47092157,    81949.20082593,\n",
       "         4034635.69890212]])"
      ]
     },
     "execution_count": 11,
     "metadata": {},
     "output_type": "execute_result"
    }
   ],
   "source": [
    "q1d_rom.L"
   ]
  },
  {
   "cell_type": "code",
   "execution_count": null,
   "id": "8a11f54e",
   "metadata": {},
   "outputs": [
    {
     "data": {
      "text/plain": [
       "array([[10963294.15634127, -2235178.34368271,  1096739.19380668,\n",
       "         2345083.85905732, -1019789.51938223,  -733393.97777916,\n",
       "         -470803.2711345 ,   992495.25078192,    81949.19551961,\n",
       "         4034635.69761539],\n",
       "       [10958255.11244998, -2242248.60599246,  1096785.74901904,\n",
       "         2345068.8556262 , -1019798.61146813,  -733393.97844215,\n",
       "         -470803.47114183,   992495.00252931,    81949.19516593,\n",
       "         4034635.69705609],\n",
       "       [10936502.31648636, -2272628.6169636 ,  1097057.84221738,\n",
       "         2345095.84402907, -1019755.03487773,  -733395.28008666,\n",
       "         -470801.01941509,   992494.71494567,    81949.20213573,\n",
       "         4034635.69964729],\n",
       "       [10998292.53343106, -2185702.15357052,  1097038.93449214,\n",
       "         2345126.59395434, -1019723.42489431,  -733394.33844805,\n",
       "         -470802.85527797,   992494.58846304,    81949.19743181,\n",
       "         4034635.6955079 ],\n",
       "       [10998986.57902385, -2184713.97727365,  1097063.31569126,\n",
       "         2345121.71440192, -1019725.23099341,  -733394.34611448,\n",
       "         -470802.85561049,   992494.57653455,    81949.19701573,\n",
       "         4034635.69671494],\n",
       "       [10947590.24549113, -2257171.55236902,  1096909.85048716,\n",
       "         2345060.27148216, -1019796.32189813,  -733394.31882037,\n",
       "         -470803.14957138,   992494.51709043,    81949.19856839,\n",
       "         4034635.69895702],\n",
       "       [10985452.92057462, -2203931.75768444,  1096750.82824999,\n",
       "         2345155.63319511, -1019726.15885458,  -733394.23394265,\n",
       "         -470802.65060839,   992495.17557043,    81949.20115221,\n",
       "         4034635.69730509],\n",
       "       [10995769.95177891, -2189291.37913668,  1096958.8722443 ,\n",
       "         2345140.86196391, -1019718.95078555,  -733394.31744702,\n",
       "         -470802.83343899,   992494.66232444,    81949.19838549,\n",
       "         4034635.69628303],\n",
       "       [10966251.7238557 , -2231022.65811083,  1096717.75442935,\n",
       "         2345094.51857193, -1019782.13886427,  -733394.00163708,\n",
       "         -470803.12293926,   992495.36528893,    81949.19624667,\n",
       "         4034635.6979341 ],\n",
       "       [10947921.44095179, -2256708.92611141,  1096905.71063227,\n",
       "         2345059.92018734, -1019796.93703637,  -733394.29780176,\n",
       "         -470803.18418771,   992494.52616574,    81949.19850476,\n",
       "         4034635.69806406],\n",
       "       [10976020.88572244, -2217263.9417167 ,  1096690.18393346,\n",
       "         2345131.79350234, -1019752.35408084,  -733394.12564372,\n",
       "         -470802.71726185,   992495.47857007,    81949.19973265,\n",
       "         4034635.69766005],\n",
       "       [10988443.84272561, -2199693.78243562,  1096793.61025506,\n",
       "         2345157.18002453, -1019720.78942478,  -733394.25914977,\n",
       "         -470802.69360777,   992495.02262023,    81949.20094007,\n",
       "         4034635.69576264],\n",
       "       [10962588.05155008, -2236169.82116099,  1096745.01917566,\n",
       "         2345081.48165795, -1019791.08485266,  -733393.97327568,\n",
       "         -470803.30459127,   992495.21959863,    81949.19552305,\n",
       "         4034635.69657086],\n",
       "       [10978260.80622211, -2214102.17801281,  1096695.58052369,\n",
       "         2345139.31488099, -1019745.37270811,  -733394.15384629,\n",
       "         -470802.66884313,   992495.44036938,    81949.20047693,\n",
       "         4034635.69681294],\n",
       "       [10981935.30657411, -2208909.58793574,  1096716.04540817,\n",
       "         2345149.47689362, -1019734.71754037,  -733394.19754607,\n",
       "         -470802.63455456,   992495.32884873,    81949.20111793,\n",
       "         4034635.69697464],\n",
       "       [10997770.545835  , -2186445.20714743,  1097021.2745977 ,\n",
       "         2345129.97502041, -1019722.23522786,  -733394.33595351,\n",
       "         -470802.85372803,   992494.59940161,    81949.19734343,\n",
       "         4034635.69794535],\n",
       "       [10951907.08890018, -2251137.78314813,  1096856.90484444,\n",
       "         2345059.02949605, -1019801.42063429,  -733394.11009834,\n",
       "         -470803.45948721,   992494.67515975,    81949.19635015,\n",
       "         4034635.69936183],\n",
       "       [10943558.51888245, -2262798.799718  ,  1096961.11308015,\n",
       "         2345068.16246847, -1019785.76234654,  -733394.61823522,\n",
       "         -470802.56839893,   992494.47092157,    81949.20082593,\n",
       "         4034635.69890212]])"
      ]
     },
     "execution_count": 5,
     "metadata": {},
     "output_type": "execute_result"
    }
   ],
   "source": [
    "q1d_rom.compress(q1d_test)"
   ]
  },
  {
   "cell_type": "code",
   "execution_count": null,
   "id": "1d387160",
   "metadata": {},
   "outputs": [
    {
     "data": {
      "text/plain": [
       "(18, 10)"
      ]
     },
     "execution_count": 6,
     "metadata": {},
     "output_type": "execute_result"
    }
   ],
   "source": [
    "q1d_rom.L.shape"
   ]
  },
  {
   "cell_type": "code",
   "execution_count": null,
   "id": "e37587e5",
   "metadata": {},
   "outputs": [
    {
     "data": {
      "text/plain": [
       "array([[10959738.66961821, -2240168.34395823,  1096770.91547011, ...,\n",
       "          992495.08022346,    81949.19513299,  4034635.69721801],\n",
       "       [10988200.0105534 , -2200039.51142006,  1096789.62634158, ...,\n",
       "          992495.03484966,    81949.20063085,  4034635.69862992],\n",
       "       [10970435.16167439, -2225136.8422974 ,  1096696.86855331, ...,\n",
       "          992495.4687173 ,    81949.19783681,  4034635.69689814],\n",
       "       ...,\n",
       "       [10960154.23393819, -2239585.45577297,  1096766.91390502, ...,\n",
       "          992495.10123374,    81949.19503554,  4034635.69809115],\n",
       "       [10948691.85277101, -2255632.61532823,  1096896.12171825, ...,\n",
       "          992494.54926531,    81949.19816948,  4034635.69741512],\n",
       "       [11001995.47715747, -2180426.42406202,  1097181.73409833, ...,\n",
       "          992494.58475022,    81949.19584459,  4034635.69896612]])"
      ]
     },
     "execution_count": 7,
     "metadata": {},
     "output_type": "execute_result"
    }
   ],
   "source": [
    "q1d_rom.compress(q1d_train)"
   ]
  },
  {
   "cell_type": "code",
   "execution_count": null,
   "id": "7f7dd036",
   "metadata": {},
   "outputs": [
    {
     "data": {
      "text/plain": [
       "(18, 10)"
      ]
     },
     "execution_count": 8,
     "metadata": {},
     "output_type": "execute_result"
    }
   ],
   "source": [
    "q1d_rom.compress(q1d_test).shape"
   ]
  },
  {
   "cell_type": "code",
   "execution_count": null,
   "id": "39d98658",
   "metadata": {},
   "outputs": [
    {
     "ename": "ValueError",
     "evalue": "Data cardinality is ambiguous. Make sure all arrays contain the same number of samples.'x' sizes: 18\n'y' sizes: 145\n",
     "output_type": "error",
     "traceback": [
      "\u001b[31m---------------------------------------------------------------------------\u001b[39m",
      "\u001b[31mValueError\u001b[39m                                Traceback (most recent call last)",
      "\u001b[36mCell\u001b[39m\u001b[36m \u001b[39m\u001b[32mIn[9]\u001b[39m\u001b[32m, line 11\u001b[39m\n\u001b[32m      6\u001b[39m num_layers = \u001b[32m10\u001b[39m\n\u001b[32m      7\u001b[39m num_neurons = rank*\u001b[32m1\u001b[39m\n\u001b[32m---> \u001b[39m\u001b[32m11\u001b[39m nn_model, history = \u001b[43mtrainNN\u001b[49m\u001b[43m(\u001b[49m\n\u001b[32m     12\u001b[39m \u001b[43m    \u001b[49m\u001b[43minputs_train\u001b[49m\u001b[43m=\u001b[49m\u001b[43mq1d_train_L\u001b[49m\u001b[43m,\u001b[49m\u001b[43m \u001b[49m\n\u001b[32m     13\u001b[39m \u001b[43m    \u001b[49m\u001b[43moutputs_train\u001b[49m\u001b[43m=\u001b[49m\u001b[43msu2_train_L\u001b[49m\u001b[43m,\u001b[49m\u001b[43m \u001b[49m\n\u001b[32m     14\u001b[39m \u001b[43m    \u001b[49m\u001b[43minputs_validation\u001b[49m\u001b[43m=\u001b[49m\u001b[43mq1d_validation_L\u001b[49m\u001b[43m,\u001b[49m\u001b[43m \u001b[49m\n\u001b[32m     15\u001b[39m \u001b[43m    \u001b[49m\u001b[43moutputs_validation\u001b[49m\u001b[43m=\u001b[49m\u001b[43msu2_validation_L\u001b[49m\u001b[43m,\u001b[49m\n\u001b[32m     16\u001b[39m \u001b[43m    \u001b[49m\u001b[43mlayers\u001b[49m\u001b[43m=\u001b[49m\u001b[43m(\u001b[49m\u001b[43mnum_inputs\u001b[49m\u001b[43m \u001b[49m\u001b[43m,\u001b[49m\u001b[43m \u001b[49m\u001b[43mnum_outputs\u001b[49m\u001b[43m \u001b[49m\u001b[43m,\u001b[49m\u001b[43m \u001b[49m\u001b[43mnum_layers\u001b[49m\u001b[43m \u001b[49m\u001b[43m,\u001b[49m\u001b[43m \u001b[49m\u001b[43mnum_neurons\u001b[49m\u001b[43m)\u001b[49m\n\u001b[32m     17\u001b[39m \u001b[43m)\u001b[49m\n\u001b[32m     19\u001b[39m nn_model.save(\u001b[33m'\u001b[39m\u001b[33m../data/trained_nn.keras\u001b[39m\u001b[33m'\u001b[39m)\n\u001b[32m     21\u001b[39m nn_model = load_model(\u001b[33m'\u001b[39m\u001b[33m../data/trained_nn.keras\u001b[39m\u001b[33m'\u001b[39m)\n",
      "\u001b[36mFile \u001b[39m\u001b[32m~/Documents/Sync/tg/src/train_nn.py:274\u001b[39m, in \u001b[36mtrainNN\u001b[39m\u001b[34m(inputs_train, outputs_train, inputs_validation, outputs_validation, layers)\u001b[39m\n\u001b[32m    271\u001b[39m \u001b[38;5;28;01mdef\u001b[39;00m\u001b[38;5;250m \u001b[39m\u001b[34mtrainNN\u001b[39m(inputs_train, outputs_train, inputs_validation, outputs_validation, layers):\n\u001b[32m    272\u001b[39m     model = get_model(*(layers))\n\u001b[32m--> \u001b[39m\u001b[32m274\u001b[39m     history = \u001b[43mmodel\u001b[49m\u001b[43m.\u001b[49m\u001b[43mfit\u001b[49m\u001b[43m(\u001b[49m\u001b[43minputs_train\u001b[49m\u001b[43m,\u001b[49m\u001b[43m \u001b[49m\u001b[43moutputs_train\u001b[49m\u001b[43m,\u001b[49m\u001b[43m \u001b[49m\u001b[43mepochs\u001b[49m\u001b[43m=\u001b[49m\u001b[32;43m1000\u001b[39;49m\u001b[43m,\u001b[49m\u001b[43m \u001b[49m\u001b[43mbatch_size\u001b[49m\u001b[43m=\u001b[49m\u001b[32;43m16\u001b[39;49m\u001b[43m,\u001b[49m\n\u001b[32m    275\u001b[39m \u001b[43m                        \u001b[49m\u001b[43mvalidation_data\u001b[49m\u001b[43m=\u001b[49m\u001b[43m(\u001b[49m\u001b[43minputs_validation\u001b[49m\u001b[43m,\u001b[49m\u001b[43m \u001b[49m\u001b[43moutputs_validation\u001b[49m\u001b[43m)\u001b[49m\u001b[43m)\u001b[49m\n\u001b[32m    277\u001b[39m     \u001b[38;5;28;01mreturn\u001b[39;00m model, history\n",
      "\u001b[36mFile \u001b[39m\u001b[32m~/micromamba/envs/plaid/lib/python3.12/site-packages/keras/src/utils/traceback_utils.py:122\u001b[39m, in \u001b[36mfilter_traceback.<locals>.error_handler\u001b[39m\u001b[34m(*args, **kwargs)\u001b[39m\n\u001b[32m    119\u001b[39m     filtered_tb = _process_traceback_frames(e.__traceback__)\n\u001b[32m    120\u001b[39m     \u001b[38;5;66;03m# To get the full stack trace, call:\u001b[39;00m\n\u001b[32m    121\u001b[39m     \u001b[38;5;66;03m# `keras.config.disable_traceback_filtering()`\u001b[39;00m\n\u001b[32m--> \u001b[39m\u001b[32m122\u001b[39m     \u001b[38;5;28;01mraise\u001b[39;00m e.with_traceback(filtered_tb) \u001b[38;5;28;01mfrom\u001b[39;00m\u001b[38;5;250m \u001b[39m\u001b[38;5;28;01mNone\u001b[39;00m\n\u001b[32m    123\u001b[39m \u001b[38;5;28;01mfinally\u001b[39;00m:\n\u001b[32m    124\u001b[39m     \u001b[38;5;28;01mdel\u001b[39;00m filtered_tb\n",
      "\u001b[36mFile \u001b[39m\u001b[32m~/micromamba/envs/plaid/lib/python3.12/site-packages/keras/src/trainers/data_adapters/data_adapter_utils.py:115\u001b[39m, in \u001b[36mcheck_data_cardinality\u001b[39m\u001b[34m(data)\u001b[39m\n\u001b[32m    111\u001b[39m     sizes = \u001b[33m\"\u001b[39m\u001b[33m, \u001b[39m\u001b[33m\"\u001b[39m.join(\n\u001b[32m    112\u001b[39m         \u001b[38;5;28mstr\u001b[39m(i.shape[\u001b[32m0\u001b[39m]) \u001b[38;5;28;01mfor\u001b[39;00m i \u001b[38;5;129;01min\u001b[39;00m tree.flatten(single_data)\n\u001b[32m    113\u001b[39m     )\n\u001b[32m    114\u001b[39m     msg += \u001b[33mf\u001b[39m\u001b[33m\"\u001b[39m\u001b[33m'\u001b[39m\u001b[38;5;132;01m{\u001b[39;00mlabel\u001b[38;5;132;01m}\u001b[39;00m\u001b[33m'\u001b[39m\u001b[33m sizes: \u001b[39m\u001b[38;5;132;01m{\u001b[39;00msizes\u001b[38;5;132;01m}\u001b[39;00m\u001b[38;5;130;01m\\n\u001b[39;00m\u001b[33m\"\u001b[39m\n\u001b[32m--> \u001b[39m\u001b[32m115\u001b[39m \u001b[38;5;28;01mraise\u001b[39;00m \u001b[38;5;167;01mValueError\u001b[39;00m(msg)\n",
      "\u001b[31mValueError\u001b[39m: Data cardinality is ambiguous. Make sure all arrays contain the same number of samples.'x' sizes: 18\n'y' sizes: 145\n"
     ]
    }
   ],
   "source": [
    "from train_nn import trainNN\n",
    "from tensorflow.keras.models import load_model\n",
    "\n",
    "num_inputs = rank\n",
    "num_outputs = rank\n",
    "num_layers = 10\n",
    "num_neurons = rank*1\n",
    "\n",
    "\n",
    "\n",
    "nn_model, history = trainNN(\n",
    "    inputs_train=q1d_train_L, \n",
    "    outputs_train=su2_train_L, \n",
    "    inputs_validation=q1d_validation_L, \n",
    "    outputs_validation=su2_validation_L,\n",
    "    layers=(num_inputs , num_outputs , num_layers , num_neurons)\n",
    ")\n",
    "\n",
    "nn_model.save('../data/trained_nn.keras')\n",
    "\n",
    "nn_model = load_model('../data/trained_nn.keras')"
   ]
  },
  {
   "cell_type": "code",
   "execution_count": null,
   "id": "445bdcf5",
   "metadata": {},
   "outputs": [
    {
     "data": {
      "text/plain": [
       "<Axes: >"
      ]
     },
     "execution_count": 5,
     "metadata": {},
     "output_type": "execute_result"
    },
    {
     "data": {
      "image/png": "[encoded data removed]",
      "text/plain": [
       "<Figure size 640x480 with 1 Axes>"
      ]
     },
     "metadata": {},
     "output_type": "display_data"
    }
   ],
   "source": [
    "import seaborn as sns\n",
    "import matplotlib.pyplot as plt\n",
    "import numpy as np\n",
    "\n",
    "plt.yscale('log')\n",
    "x = np.arange(0, 1000)\n",
    "sns.lineplot(x=x, y=history.history['loss'], label='training')\n",
    "sns.lineplot(x=x, y=history.history['val_loss'], label='validation')"
   ]
  },
  {
   "cell_type": "code",
   "execution_count": null,
   "id": "032a5429",
   "metadata": {},
   "outputs": [
    {
     "ename": "NameError",
     "evalue": "name 'q1d_test_L' is not defined",
     "output_type": "error",
     "traceback": [
      "\u001b[31m---------------------------------------------------------------------------\u001b[39m",
      "\u001b[31mNameError\u001b[39m                                 Traceback (most recent call last)",
      "\u001b[36mCell\u001b[39m\u001b[36m \u001b[39m\u001b[32mIn[6]\u001b[39m\u001b[32m, line 1\u001b[39m\n\u001b[32m----> \u001b[39m\u001b[32m1\u001b[39m \u001b[43mq1d_test_L\u001b[49m.shape\n",
      "\u001b[31mNameError\u001b[39m: name 'q1d_test_L' is not defined"
     ]
    }
   ],
   "source": [
    "q1d_test_L.shape"
   ]
  },
  {
   "cell_type": "code",
   "execution_count": null,
   "id": "fa85f15e",
   "metadata": {},
   "outputs": [
    {
     "data": {
      "text/plain": [
       "(117, 10)"
      ]
     },
     "execution_count": 36,
     "metadata": {},
     "output_type": "execute_result"
    }
   ],
   "source": [
    "q1d_train_L.shape"
   ]
  },
  {
   "cell_type": "code",
   "execution_count": null,
   "id": "fd381236",
   "metadata": {},
   "outputs": [
    {
     "ename": "NameError",
     "evalue": "name 'q1d_test_L' is not defined",
     "output_type": "error",
     "traceback": [
      "\u001b[31m---------------------------------------------------------------------------\u001b[39m",
      "\u001b[31mNameError\u001b[39m                                 Traceback (most recent call last)",
      "\u001b[36mCell\u001b[39m\u001b[36m \u001b[39m\u001b[32mIn[7]\u001b[39m\u001b[32m, line 2\u001b[39m\n\u001b[32m      1\u001b[39m idx = \u001b[32m0\u001b[39m\n\u001b[32m----> \u001b[39m\u001b[32m2\u001b[39m prediction = nn_model.predict(\u001b[43mq1d_test_L\u001b[49m[idx:idx+\u001b[32m1\u001b[39m])\n\u001b[32m      3\u001b[39m reconstructed = su2_rom.reconstruct(prediction)\n\u001b[32m      4\u001b[39m plt.plot(reconstructed[hfd.indexes[\u001b[33m'\u001b[39m\u001b[33mHeat_Flux\u001b[39m\u001b[33m'\u001b[39m],idx])\n",
      "\u001b[31mNameError\u001b[39m: name 'q1d_test_L' is not defined"
     ]
    }
   ],
   "source": [
    "idx = 0\n",
    "prediction = nn_model.predict(q1d_test_L[idx:idx+1])\n",
    "reconstructed = su2_rom.reconstruct(prediction)\n",
    "plt.plot(reconstructed[hfd.indexes['Heat_Flux'],idx])"
   ]
  },
  {
   "cell_type": "code",
   "execution_count": null,
   "id": "c18d2353",
   "metadata": {},
   "outputs": [
    {
     "data": {
      "text/plain": [
       "array([[-7.53155268e+03, -6.38855268e+03, -1.81255268e+03, ...,\n",
       "        -1.62025527e+04, -4.94655268e+03, -3.14755268e+03],\n",
       "       [ 2.24743966e+02,  2.21843966e+02,  1.34243966e+02, ...,\n",
       "         1.75343966e+02,  2.12043966e+02,  1.83943966e+02],\n",
       "       [-7.53124480e+03, -6.38824480e+03, -1.81224480e+03, ...,\n",
       "        -1.62022448e+04, -4.94624480e+03, -3.14724480e+03],\n",
       "       ...,\n",
       "       [ 2.84427709e+05,  2.47802009e+05,  8.32814094e+04, ...,\n",
       "         5.60256909e+05,  2.01272309e+05,  1.38271909e+05],\n",
       "       [ 2.86013509e+05,  2.49184209e+05,  8.37299095e+04, ...,\n",
       "         5.63348509e+05,  2.02396909e+05,  1.39041209e+05],\n",
       "       [ 3.24857099e+05,  2.82855099e+05,  9.47674987e+04, ...,\n",
       "         6.44005299e+05,  2.29483999e+05,  1.57452399e+05]])"
      ]
     },
     "execution_count": 11,
     "metadata": {},
     "output_type": "execute_result"
    }
   ],
   "source": [
    "su2_test - reconstructed"
   ]
  },
  {
   "cell_type": "code",
   "execution_count": null,
   "id": "8f9da8de",
   "metadata": {},
   "outputs": [
    {
     "data": {
      "text/plain": [
       "(208110, 1)"
      ]
     },
     "execution_count": 9,
     "metadata": {},
     "output_type": "execute_result"
    }
   ],
   "source": [
    "reconstructed.shape"
   ]
  },
  {
   "cell_type": "code",
   "execution_count": null,
   "id": "d2f4a793",
   "metadata": {},
   "outputs": [
    {
     "data": {
      "text/plain": [
       "np.float64(0.7535100255658239)"
      ]
     },
     "execution_count": 13,
     "metadata": {},
     "output_type": "execute_result"
    }
   ],
   "source": [
    "from metrics import nrmse, nrse\n",
    "\n",
    "nrmse(su2_test, reconstructed)"
   ]
  },
  {
   "cell_type": "code",
   "execution_count": null,
   "id": "3ee4b2c7",
   "metadata": {},
   "outputs": [
    {
     "data": {
      "text/plain": [
       "(208110, 18)"
      ]
     },
     "execution_count": 14,
     "metadata": {},
     "output_type": "execute_result"
    }
   ],
   "source": [
    "su2_test.shape"
   ]
  },
  {
   "cell_type": "code",
   "execution_count": null,
   "id": "92443373",
   "metadata": {},
   "outputs": [
    {
     "ename": "IndexError",
     "evalue": "index 2 is out of bounds for axis 1 with size 1",
     "output_type": "error",
     "traceback": [
      "\u001b[31m---------------------------------------------------------------------------\u001b[39m",
      "\u001b[31mIndexError\u001b[39m                                Traceback (most recent call last)",
      "\u001b[36mCell\u001b[39m\u001b[36m \u001b[39m\u001b[32mIn[27]\u001b[39m\u001b[32m, line 1\u001b[39m\n\u001b[32m----> \u001b[39m\u001b[32m1\u001b[39m plt.plot(\u001b[43mreconstructed\u001b[49m\u001b[43m[\u001b[49m\u001b[43mhfd\u001b[49m\u001b[43m.\u001b[49m\u001b[43mindexes\u001b[49m\u001b[43m[\u001b[49m\u001b[33;43m'\u001b[39;49m\u001b[33;43mHeat_Flux\u001b[39;49m\u001b[33;43m'\u001b[39;49m\u001b[43m]\u001b[49m\u001b[43m,\u001b[49m\u001b[32;43m2\u001b[39;49m\u001b[43m]\u001b[49m)\n\u001b[32m      2\u001b[39m \u001b[38;5;66;03m#plt.plot(su2_test[hfd.indexes['Heat_Flux'],0])\u001b[39;00m\n",
      "\u001b[31mIndexError\u001b[39m: index 2 is out of bounds for axis 1 with size 1"
     ]
    }
   ],
   "source": [
    "\n",
    "#plt.plot(su2_test[hfd.indexes['Heat_Flux'],0])"
   ]
  },
  {
   "cell_type": "code",
   "execution_count": null,
   "id": "4f18dbe2",
   "metadata": {},
   "outputs": [],
   "source": [
    "def average_error(variable_name):\n",
    "    err = []\n",
    "    for i in range(163, 181):\n",
    "        input = q1d_rom.L[i, :][None, :]\n",
    "        reconstructed = su2_rom.reconstruct(nn_model.predict(input))\n",
    "\n",
    "        meshfile = hfd.meshfile[0].decode('utf-8')\n",
    "        variable = reconstructed[hfd.indexes[variable_name]][:, 0]\n",
    "\n",
    "        raw_data = hfd.data[:, i][hfd.indexes[variable_name]]\n",
    "\n",
    "        err.append(nrmse(raw_data, variable))\n",
    "\n",
    "    return np.abs(np.mean(np.array(err)))"
   ]
  }
 ],
 "metadata": {
  "kernelspec": {
   "display_name": "plaid",
   "language": "python",
   "name": "python3"
  },
  "language_info": {
   "codemirror_mode": {
    "name": "ipython",
    "version": 3
   },
   "file_extension": ".py",
   "mimetype": "text/x-python",
   "name": "python",
   "nbconvert_exporter": "python",
   "pygments_lexer": "ipython3",
   "version": "3.12.11"
  }
 },
 "nbformat": 4,
 "nbformat_minor": 5
}
